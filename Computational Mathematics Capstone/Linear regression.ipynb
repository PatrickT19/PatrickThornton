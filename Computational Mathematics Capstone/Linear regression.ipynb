{
 "cells": [
  {
   "cell_type": "markdown",
   "metadata": {},
   "source": [
    "# Capstone in Mathematics Final Project\n",
    "## Linear Regression -- Patrick Thornton\n",
    "### Package imports"
   ]
  },
  {
   "cell_type": "code",
   "execution_count": 41,
   "metadata": {},
   "outputs": [],
   "source": [
    "import numpy as np\n",
    "import pandas as pd\n",
    "from sklearn import preprocessing\n",
    "import matplotlib.pyplot as plt\n",
    "from sklearn import model_selection\n",
    "import seaborn as sn\n",
    "import math\n",
    "import time"
   ]
  },
  {
   "cell_type": "markdown",
   "metadata": {},
   "source": [
    "### Open and read from data file"
   ]
  },
  {
   "cell_type": "code",
   "execution_count": 42,
   "metadata": {},
   "outputs": [],
   "source": [
    "def read_data(feature):\n",
    "    x_data = pd.read_csv(feature)\n",
    "    x = x_data.values\n",
    "    return x\n",
    "\n",
    "train = pd.read_csv('./data/train.csv')\n",
    "test = pd.read_csv('./data/test.csv')\n"
   ]
  },
  {
   "cell_type": "markdown",
   "metadata": {},
   "source": [
    "### Data Manipulation"
   ]
  },
  {
   "cell_type": "code",
   "execution_count": 43,
   "metadata": {},
   "outputs": [],
   "source": [
    "# Rename catagory \"weathersit\" to be more intuitive\n",
    "train.rename(columns={'weathersit':'weather'},inplace=True)\n",
    "test.rename(columns={'weathersit':'weather'},inplace=True)\n",
    "\n",
    "# Drop date column given its integer representation is noise for this model\n",
    "train = train.drop(['dteday'], axis=1)\n",
    "test = test.drop(['dteday'], axis=1)\n",
    "\n",
    "# Change string type columns to catagory typed columns\n",
    "train['season'] = train.season.astype('category')\n",
    "train['holiday'] = train.holiday.astype('category')\n",
    "train['weather'] = train.weather.astype('category')\n",
    "test['season'] = test.season.astype('category')\n",
    "test['holiday'] = test.holiday.astype('category')\n",
    "test['weather'] = test.weather.astype('category')\n",
    "\n",
    "# Removing weekday improves RMSE by 0.01 for log normal data\n",
    "# or makes estimate approximatly 1 value closer to true value\n",
    "train = train.drop(['weekday'],axis=1)\n",
    "test = test.drop(['weekday'],axis=1)\n",
    "\n",
    "# Using log to make labels more normally distributed\n",
    "train['cnt'] = train['cnt'].transform(lambda x: math.log(x))\n",
    "test['cnt'] = test['cnt'].transform(lambda x: math.log(x))"
   ]
  },
  {
   "cell_type": "markdown",
   "metadata": {},
   "source": [
    "### Encode features"
   ]
  },
  {
   "cell_type": "code",
   "execution_count": 44,
   "metadata": {},
   "outputs": [],
   "source": [
    "def one_hot_encoder(df, column):\n",
    "    # # # # # # # # # # # # # # # # # # # # # # # # # # # # # #\n",
    "    # Source: Predicting bike sharing trends with Python. (2018). \n",
    "    # Medium. Retrieved 29 April 2019, from \n",
    "    # https://medium.com/@wilamelima/analysing-bike-sharing-trends-with-python-a9f574c596b9\n",
    "    # \n",
    "    # Encode catagorical data to be in seperate columns\n",
    "    # This avoids the algorithm treating different values with different importance\n",
    "    # label is 0 -> [1 0 0 0 0 0 0 0 0]\n",
    "    # label is 3 -> [0 0 0 1 0 0 0 0 0]\n",
    "    #\n",
    "    # Parameters:\n",
    "    # df - dataframe containing data\n",
    "    # column - column name to be encoded\n",
    "    # \n",
    "    # Results:\n",
    "    # df - updated dataframe\n",
    "    # # # # # # # # # # # # # # # # # # # # # # # # # # # # # #\n",
    "    \n",
    "    df = pd.concat([df, pd.get_dummies(df[column], prefix=column, drop_first=True)],axis=1)\n",
    "    df = df.drop([column], axis=1)\n",
    "    return df\n",
    "\n",
    "# Copy of data to be encoded\n",
    "train_ohe = train\n",
    "test_ohe = test\n",
    "\n",
    "# Columns to be encoded\n",
    "cats = ['season','holiday','weather']\n",
    "\n",
    "# Encoding columns one by one in train and test\n",
    "for cat in cats:\n",
    "    train_ohe = one_hot_encoder(train_ohe, cat)\n",
    "    test_ohe = one_hot_encoder(test_ohe, cat)"
   ]
  },
  {
   "cell_type": "markdown",
   "metadata": {},
   "source": [
    "### Split features and labels"
   ]
  },
  {
   "cell_type": "code",
   "execution_count": 45,
   "metadata": {},
   "outputs": [],
   "source": [
    "y_train =  train_ohe['cnt']\n",
    "X_train = train_ohe.drop(['cnt'], axis=1)\n",
    "y_test =  test_ohe['cnt']\n",
    "X_test = test_ohe.drop(['cnt'], axis=1)"
   ]
  },
  {
   "cell_type": "markdown",
   "metadata": {},
   "source": [
    "### Define functions to normalize features"
   ]
  },
  {
   "cell_type": "code",
   "execution_count": 46,
   "metadata": {},
   "outputs": [],
   "source": [
    "def get_mean_variance(X):\n",
    "    mean = np.mean(X, axis=0) # axis=0: taking means along the\n",
    "    # vertical line (column)\n",
    "    # (sum(x_i-\\mu)^2)/N\n",
    "    X_temp = X - mean #\n",
    "    X_temp_entrypointwise = X_temp*X_temp\n",
    "    variance = np.mean(X_temp_entrypointwise, axis=0) #axis=0: \n",
    "    # taking means along the vertical line (column)\n",
    "    return mean, variance\n",
    "    \n",
    "def normalize_features(X_train, X_test):\n",
    "    mean, variance = get_mean_variance(X_train)\n",
    "    variance += 1e-15\n",
    "    ''' transform the feature '''\n",
    "    X_train_norm = (X_train - mean)/np.sqrt(variance)\n",
    "    X_test_norm = (X_test - mean)/np.sqrt(variance)\n",
    "    return X_train_norm, X_test_norm"
   ]
  },
  {
   "cell_type": "markdown",
   "metadata": {},
   "source": [
    "### Execute model"
   ]
  },
  {
   "cell_type": "code",
   "execution_count": 47,
   "metadata": {},
   "outputs": [
    {
     "name": "stdout",
     "output_type": "stream",
     "text": [
      "The predictor is:\n",
      "p(x) = 2.76 + 0.10*x_1 + 1.77*x_2 + 1.07*x_3 + -1.54*x_4 + 0.17*x_5 + 0.01*x_6 + 0.19*x_7 + 0.52*x_8 + -0.21*x_9 + -0.39*x_10 + 0.29*x_11 Runtime of linear regression train and predict:  0.003003835678100586\n"
     ]
    }
   ],
   "source": [
    "# Start function timer\n",
    "start = time.time()\n",
    "\n",
    "def get_optimal_coeffs(x,y):\n",
    "    xt = x.T\n",
    "    xtx= xt.dot(x)\n",
    "    xtx_inv = np.linalg.inv(xtx) # (x^t*x)^(-1)\n",
    "    optimal_coeffs = (xtx_inv.dot(xt)).dot(y) \n",
    "    return optimal_coeffs\n",
    "\n",
    "def predictor(x, opt_c):\n",
    "    '''\n",
    "    x =[x_0, x_1, x_2, ..., x_n]\n",
    "    c =[c_0, c_1, c_2, ..., c_n]\n",
    "    x_0 = 1\n",
    "    c_0: bias\n",
    "    n=12\n",
    "    P(x) = <x,c> c_0*1 + c_1*x_crim + c_2*x_zn + c_3*x_indus + c_4*x_chas + c_5*x_nox + c_6*x_rm + c_7*x_age + c_8*x_dis + c_9*x_rad \n",
    "    + c_10*x_tax + c_11*x_ptratio + c_12*x_lstat\n",
    "    '''\n",
    "    return x.dot(opt_c)\n",
    "\n",
    "\n",
    "def add_vector_one(x):\n",
    "    ones = np.ones(x.shape[0])\n",
    "    ones = ones.reshape(-1,1)\n",
    "    x_new = np.append(ones, x, axis = 1)\n",
    "    \n",
    "    return x_new\n",
    "\n",
    "x_train_new = add_vector_one(X_train)\n",
    "x_test_new = add_vector_one(X_test)\n",
    "\n",
    "opt_coeffs = get_optimal_coeffs(x_train_new, y_train)\n",
    "\n",
    "\n",
    "print(\"The predictor is:\")\n",
    "i = 0\n",
    "for coeff in opt_coeffs:\n",
    "    if i<1:\n",
    "        print('p(x) = %.2f' %float(coeff), end = ' ')\n",
    "\n",
    "    else:\n",
    "        print('+ %.2f' %float(coeff) + '*x_' + str(i), end = ' ')\n",
    "    i = i + 1\n",
    "\n",
    "# List of predicted values using optimal coefficients\n",
    "y_pred = predictor(x_test_new, opt_coeffs)\n",
    "\n",
    "# End Function timer\n",
    "end = time.time()\n",
    "print(\"Runtime of linear regression train and predict: \", end-start)\n",
    "# Used to return labels to real number\n",
    "# Removes normalizaion, not recommended for anything other than RMSE\n",
    "y_num = np.asarray([int(math.exp(x)) for x in y_pred])\n",
    "y_test_num = np.asarray([int(math.exp(x)) for x in y_test])"
   ]
  },
  {
   "cell_type": "markdown",
   "metadata": {},
   "source": [
    "# Accuracy"
   ]
  },
  {
   "cell_type": "code",
   "execution_count": 48,
   "metadata": {},
   "outputs": [],
   "source": [
    "def RMSE(y_pred, y_test):   \n",
    "    # # # # # # # # # # # # # # # # # # # # # # # # # # # # # # \n",
    "    # Compare the difference between predicted and real values\n",
    "    # using root mean square error.\n",
    "    #\n",
    "    # Parameters:\n",
    "    # y_pred - predicted labels using p(x) (vector/list)\n",
    "    # y_test - actual labels from data (vector/list)\n",
    "    #\n",
    "    # Return:\n",
    "    # rmse - Singular value determined using root mean square error method\n",
    "    # # # # # # # # # # # # # # # # # # # # # # # # # # # # # #\n",
    "    \n",
    "    x = float(len(y_test)) # len () gives an integer value   \n",
    "    rmse = np.sqrt(sum((y_test-y_pred)**2)/x)\n",
    "    return rmse"
   ]
  },
  {
   "cell_type": "code",
   "execution_count": 49,
   "metadata": {},
   "outputs": [],
   "source": [
    "def Pearson(y_pred, y_test):\n",
    "    # # # # # # # # # # # # # # # # # # # # # # # # # # # # # # \n",
    "    # Partial Source: Python, C., Dali, S., Hammerbacher, J., & Thoma, \n",
    "    # M. (2010). Calculating Pearson correlation and significance \n",
    "    # in Python. Stack Overflow. Retrieved 29 April 2019, from \n",
    "    # https://stackoverflow.com/questions/3949226/calculating-pearson-correlation-and-significance-in-python\n",
    "    #\n",
    "    # Compare the difference between predicted and real values\n",
    "    # using pearson method.\n",
    "    #\n",
    "    # Parameters:\n",
    "    # y_pred - predicted labels using p(x) (vector/list)\n",
    "    # y_test - actual labels from data (vector/list)\n",
    "    #\n",
    "    # Return:\n",
    "    # Pearson coefficient\n",
    "    # # # # # # # # # # # # # # # # # # # # # # # # # # # # # #\n",
    "    \n",
    "    # Proper variable structure tests\n",
    "    assert len(y_pred) == len(y_test)\n",
    "    n = len(y_pred)\n",
    "    assert n > 0\n",
    "    \n",
    "    # Finding averages of vectors using numpy.average()\n",
    "    avg_pred = np.average(y_pred)\n",
    "    avg_test = np.average(y_test)\n",
    "    \n",
    "    # Variable initialization\n",
    "    diffprod = 0\n",
    "    xdiff2 = 0\n",
    "    ydiff2 = 0\n",
    "    \n",
    "    # Determining correlation between each point\n",
    "    for idx in range(n):\n",
    "        xdiff = y_pred[idx] - avg_pred\n",
    "        ydiff = y_test[idx] - avg_test\n",
    "        diffprod += xdiff * ydiff\n",
    "        xdiff2 += xdiff * xdiff\n",
    "        ydiff2 += ydiff * ydiff\n",
    "\n",
    "    return diffprod / math.sqrt(xdiff2 * ydiff2)"
   ]
  },
  {
   "cell_type": "code",
   "execution_count": 50,
   "metadata": {},
   "outputs": [],
   "source": [
    "def Spearman(y_pred,y_test):\n",
    "    # # # # # # # # # # # # # # # # # # # # # # # # # # # # # # \n",
    "    # Compare the difference between predicted and real values\n",
    "    # using spearman correlation.\n",
    "    #\n",
    "    # Parameters:\n",
    "    # y_pred - predicted labels using p(x) (vector/list)\n",
    "    # y_test - actual labels from data (vector/list)\n",
    "    #\n",
    "    # Return:\n",
    "    # corr - spearman correlation\n",
    "    # # # # # # # # # # # # # # # # # # # # # # # # # # # # # #\n",
    "    \n",
    "    # Proper variable structure tests\n",
    "    assert len(y_pred) == len(y_test)\n",
    "    n = len(y_pred)\n",
    "    assert n > 0\n",
    "    \n",
    "    # Get ranks of labels\n",
    "    order_pred = y_pred.argsort()\n",
    "    ranks_pred = order_pred.argsort()\n",
    "    order_test = y_test.argsort()\n",
    "    ranks_test = order_test.argsort()\n",
    "    \n",
    "    # Finding averages of vectors using numpy.average()\n",
    "    avg_pred = np.average(ranks_pred)\n",
    "    avg_test = np.average(ranks_test)\n",
    "    \n",
    "    # Variable initialization\n",
    "    nom = 0 # Nominator of spearman formulation\n",
    "    left_sum = 0 # Sum of rank of predicted ranks, minus mean rank\n",
    "    right_sum = 0 # Sum of rank of actual ranks, minus mean rank\n",
    "    \n",
    "    for i in range(n):\n",
    "        left = ranks_pred[i] - avg_pred\n",
    "        right =  ranks_test[i] - avg_test\n",
    "        nom += left*right\n",
    "        left_sum += left*left\n",
    "        right_sum += right*right\n",
    "    \n",
    "    # Final calculation for R_s spearman value\n",
    "    corr = nom/(math.sqrt(left_sum)*math.sqrt(right_sum))\n",
    "    \n",
    "    return corr"
   ]
  },
  {
   "cell_type": "code",
   "execution_count": 51,
   "metadata": {},
   "outputs": [],
   "source": [
    "def KendallTau(x,y):\n",
    "    # # # # # # # # # # # # # # # # # # # # # # # # # # # # # # \n",
    "    # Compare the difference between predicted and real values\n",
    "    # using spearman correlation.\n",
    "    #\n",
    "    # Parameters:\n",
    "    # x - predicted labels using p(x) (vector/list)\n",
    "    # y - actual labels from data (vector/list)\n",
    "    #\n",
    "    # Return:\n",
    "    # t - Kendall Tau statistic\n",
    "    # # # # # # # # # # # # # # # # # # # # # # # # # # # # # #\n",
    "    \n",
    "    # Proper parameter structure tests\n",
    "    assert len(x) == len(y)\n",
    "    n = len(x)\n",
    "    assert n > 0\n",
    "    \n",
    "    # Variable initialization\n",
    "    p = 0 # Count of concordant values\n",
    "    q = 0 # Count of discordant values\n",
    "    x_ties = 0 # Count of ties in predicted values\n",
    "    y_ties = 0 # Count of ties in actuaL values\n",
    "    \n",
    "    # Determining number of concordant, discordant, or tied values\n",
    "    for i in range(n-1):\n",
    "        \n",
    "        # Concordant values\n",
    "        if x[i] > x[i+1] and y[i] > y[i+1]:\n",
    "            p += 1\n",
    "        elif x[i] < x[i+1] and y[i] < y[i+1]:\n",
    "            p += 1\n",
    "        \n",
    "        # Discordant values\n",
    "        elif x[i] > x[i+1] and y[i] < y[i+1]:\n",
    "            q+=1\n",
    "        elif x[i] < x[i+1] and y[i] > y[i+1]:\n",
    "            q+=1\n",
    "            \n",
    "        # Ties\n",
    "        elif x[i] == x[i+1]:\n",
    "            x_ties +=1\n",
    "        elif y[i] == y[i+1]:\n",
    "            y_ties += 1\n",
    "        \n",
    "        # Safty pass\n",
    "        else:\n",
    "            pass\n",
    "    \n",
    "    # Calculation of Kendall Tau statistic\n",
    "    t = (p-q)/(math.sqrt(p+q+x_ties)*math.sqrt(p+q+y_ties))\n",
    "    return t"
   ]
  },
  {
   "cell_type": "markdown",
   "metadata": {},
   "source": [
    "### Formatting and displaying different correlation values"
   ]
  },
  {
   "cell_type": "code",
   "execution_count": 54,
   "metadata": {},
   "outputs": [
    {
     "name": "stdout",
     "output_type": "stream",
     "text": [
      "The Root Mean Square Error of the data is 162.5652\n",
      "The Pearson correlation of the data is 0.6848\n",
      "The Spearman correlation of the data is 0.6766\n",
      "The Kendall Tau statistic of the data is 0.4757\n"
     ]
    }
   ],
   "source": [
    "rmse = RMSE(y_num, y_test_num)\n",
    "spearman_corr = Spearman(y_pred, y_test)\n",
    "ken = KendallTau(y_pred, y_test)\n",
    "pearson_corr = Pearson(y_pred, y_test)\n",
    "\n",
    "print('The Root Mean Square Error of the data is %.4f' % rmse)\n",
    "print('The Pearson correlation of the data is %.4f' % pearson_corr)\n",
    "print('The Spearman correlation of the data is %.4f' % spearman_corr)\n",
    "print('The Kendall Tau statistic of the data is %.4f' % ken)"
   ]
  },
  {
   "cell_type": "markdown",
   "metadata": {},
   "source": [
    "## Model visualization"
   ]
  },
  {
   "cell_type": "code",
   "execution_count": 53,
   "metadata": {},
   "outputs": [
    {
     "data": {
      "text/plain": [
       "<function matplotlib.pyplot.show(*args, **kw)>"
      ]
     },
     "execution_count": 53,
     "metadata": {},
     "output_type": "execute_result"
    },
    {
     "data": {
      "image/png": "[encoded data removed]",
      "text/plain": [
       "<Figure size 432x288 with 1 Axes>"
      ]
     },
     "metadata": {
      "needs_background": "light"
     },
     "output_type": "display_data"
    }
   ],
   "source": [
    "x = np.arange(1000)\n",
    "y = x\n",
    "plt.plot(x, y, '-')\n",
    "plt.scatter(y_num,y_test_num)\n",
    "plt.plot(x,)\n",
    "plt.ylabel(\"Actual Values\")\n",
    "plt.xlabel(\"Predicted Values\")\n",
    "plt.title(\"Linear Regression\")\n",
    "plt.show"
   ]
  },
  {
   "cell_type": "code",
   "execution_count": null,
   "metadata": {},
   "outputs": [],
   "source": []
  }
 ],
 "metadata": {
  "kernelspec": {
   "display_name": "Python 3",
   "language": "python",
   "name": "python3"
  },
  "language_info": {
   "codemirror_mode": {
    "name": "ipython",
    "version": 3
   },
   "file_extension": ".py",
   "mimetype": "text/x-python",
   "name": "python",
   "nbconvert_exporter": "python",
   "pygments_lexer": "ipython3",
   "version": "3.7.0"
  }
 },
 "nbformat": 4,
 "nbformat_minor": 2
}
