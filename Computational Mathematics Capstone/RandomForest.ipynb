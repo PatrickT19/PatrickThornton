{
 "cells": [
  {
   "cell_type": "markdown",
   "metadata": {},
   "source": [
    "# Capstone in Mathematics Final Project\n",
    "## Random Forest Regression -- Patrick Thornton\n",
    "### Package imports"
   ]
  },
  {
   "cell_type": "code",
   "execution_count": 60,
   "metadata": {},
   "outputs": [],
   "source": [
    "import numpy as np\n",
    "import pandas as pd\n",
    "from sklearn import preprocessing\n",
    "import matplotlib.pyplot as plt\n",
    "from sklearn import model_selection\n",
    "from sklearn.ensemble import RandomForestRegressor\n",
    "import math\n",
    "from sklearn.metrics import mean_squared_log_error\n",
    "import time"
   ]
  },
  {
   "cell_type": "markdown",
   "metadata": {},
   "source": [
    "### Open and read from data file"
   ]
  },
  {
   "cell_type": "code",
   "execution_count": 61,
   "metadata": {},
   "outputs": [],
   "source": [
    "def read_data(feature):\n",
    "    x_data = pd.read_csv(feature)\n",
    "    x = x_data.values\n",
    "    return x\n",
    "\n",
    "train = pd.read_csv('./data/train.csv')\n",
    "test = pd.read_csv('./data/test.csv')\n"
   ]
  },
  {
   "cell_type": "markdown",
   "metadata": {},
   "source": [
    "### Data Manipulation"
   ]
  },
  {
   "cell_type": "code",
   "execution_count": 62,
   "metadata": {},
   "outputs": [],
   "source": [
    "# Rename catagory \"weathersit\" to be more intuitive\n",
    "train.rename(columns={'weathersit':'weather'},inplace=True)\n",
    "test.rename(columns={'weathersit':'weather'},inplace=True)\n",
    "\n",
    "# Drop date column given its integer representation is noise for this model\n",
    "train = train.drop(['dteday'], axis=1)\n",
    "test = test.drop(['dteday'], axis=1)\n",
    "\n",
    "# Change string type columns to catagory typed columns\n",
    "train['season'] = train.season.astype('category')\n",
    "train['holiday'] = train.holiday.astype('category')\n",
    "train['weather'] = train.weather.astype('category')\n",
    "test['season'] = test.season.astype('category')\n",
    "test['holiday'] = test.holiday.astype('category')\n",
    "test['weather'] = test.weather.astype('category')\n",
    "\n",
    "# Using log to make labels more normally distributed\n",
    "train['cnt'] = train['cnt'].transform(lambda x: math.log(x))\n",
    "test['cnt'] = test['cnt'].transform(lambda x: math.log(x))\n",
    "\n",
    "# Removing atemp improves RMSE by 0.007 for log normal data\n",
    "# or makes estimate approximatly 0.8 value closer to true value\n",
    "train = train.drop(['atemp'],axis=1)\n",
    "test = test.drop(['atemp'],axis=1)"
   ]
  },
  {
   "cell_type": "markdown",
   "metadata": {},
   "source": [
    "### Encode Features"
   ]
  },
  {
   "cell_type": "code",
   "execution_count": 63,
   "metadata": {},
   "outputs": [],
   "source": [
    "def one_hot_encoder(df, column):\n",
    "    # # # # # # # # # # # # # # # # # # # # # # # # # # # # # #\n",
    "    # Source: Predicting bike sharing trends with Python. (2018). \n",
    "    # Medium. Retrieved 29 April 2019, from \n",
    "    # https://medium.com/@wilamelima/analysing-bike-sharing-trends-with-python-a9f574c596b9\n",
    "    # \n",
    "    # Encode catagorical data to be in seperate columns\n",
    "    # This avoids the algorithm treating different values with different importance\n",
    "    # label is 0 -> [1 0 0 0 0 0 0 0 0]\n",
    "    # label is 3 -> [0 0 0 1 0 0 0 0 0]\n",
    "    #\n",
    "    # Parameters:\n",
    "    # df - dataframe containing data\n",
    "    # column - column name to be encoded\n",
    "    # \n",
    "    # Results:\n",
    "    # df - updated dataframe\n",
    "    # # # # # # # # # # # # # # # # # # # # # # # # # # # # # #\n",
    "    \n",
    "    df = pd.concat([df, pd.get_dummies(df[column], prefix=column, drop_first=True)],axis=1)\n",
    "    df = df.drop([column], axis=1)\n",
    "    return df\n",
    "\n",
    "# Copy of data to be encoded\n",
    "train_ohe = train\n",
    "test_ohe = test\n",
    "\n",
    "# Columns to be encoded\n",
    "cats = ['season','holiday','weather']\n",
    "\n",
    "# Encoding columns one by one in train and test\n",
    "for cat in cats:\n",
    "    train_ohe = one_hot_encoder(train_ohe, cat)\n",
    "    test_ohe = one_hot_encoder(test_ohe, cat)"
   ]
  },
  {
   "cell_type": "markdown",
   "metadata": {},
   "source": [
    "### Split features and labels\n"
   ]
  },
  {
   "cell_type": "code",
   "execution_count": 64,
   "metadata": {},
   "outputs": [],
   "source": [
    "y_train =  train_ohe['cnt']\n",
    "X_train = train_ohe.drop(['cnt'], axis=1)\n",
    "y_test =  test_ohe['cnt']\n",
    "X_test = test_ohe.drop(['cnt'], axis=1)"
   ]
  },
  {
   "cell_type": "markdown",
   "metadata": {},
   "source": [
    "### Execute model"
   ]
  },
  {
   "cell_type": "code",
   "execution_count": 65,
   "metadata": {},
   "outputs": [],
   "source": [
    "# create RF learner (model)\n",
    "myRF = RandomForestRegressor(n_estimators=100, max_features=None, random_state=0)\n",
    "'''\n",
    "    n_estimators: # of trees\n",
    "    max_features: maximum features we will consider to split at each node\n",
    "                  If “auto”, then max_features=sqrt(n_features).\n",
    "                  If “sqrt”, then max_features=sqrt(n_features) (same as “auto”).\n",
    "                  If “log2”, then max_features=log2(n_features).\n",
    "                  If None, then max_features=n_features.\n",
    "                  \n",
    "'''\n",
    "# fit the model to the training data\n",
    "myRF.fit(X_train, y_train)\n",
    "y_pred = myRF.predict(X_test)"
   ]
  },
  {
   "cell_type": "markdown",
   "metadata": {},
   "source": [
    "### Model first run results"
   ]
  },
  {
   "cell_type": "code",
   "execution_count": 66,
   "metadata": {},
   "outputs": [
    {
     "data": {
      "image/png": "[encoded data removed]",
      "text/plain": [
       "<Figure size 432x288 with 1 Axes>"
      ]
     },
     "metadata": {
      "needs_background": "light"
     },
     "output_type": "display_data"
    }
   ],
   "source": [
    "# Plot the residuals\n",
    "residuals = y_test-y_pred\n",
    "fig, ax = plt.subplots()\n",
    "ax.scatter(y_test, residuals)\n",
    "ax.axhline(lw=2,color='black')\n",
    "ax.set_xlabel('Observed')\n",
    "ax.set_ylabel('Residuals')\n",
    "ax.title.set_text('Residual Plot | Root Squared Mean Log Error: ' + str(np.sqrt(mean_squared_log_error(y_test, y_pred))))\n",
    "plt.show()"
   ]
  },
  {
   "cell_type": "code",
   "execution_count": 67,
   "metadata": {},
   "outputs": [
    {
     "name": "stdout",
     "output_type": "stream",
     "text": [
      "Feature Weights:\n",
      "                      importance\n",
      "hr                     0.703049\n",
      "temp                   0.107827\n",
      "weekday                0.082589\n",
      "hum                    0.035214\n",
      "windspeed              0.022150\n",
      "weather_Light Snow     0.016060\n",
      "season_spring          0.013704\n",
      "season_winter          0.006670\n",
      "holiday_Yes            0.005733\n",
      "weather_Mist+Cloudy    0.004142\n",
      "season_summer          0.002862\n"
     ]
    }
   ],
   "source": [
    "# Get feature imporance for model\n",
    "feature_importances = pd.DataFrame(myRF.feature_importances_,\n",
    "                                   index = X_train.columns,\n",
    "                                    columns=['importance']).sort_values('importance',ascending=False)\n",
    "print(\"Feature Weights:\\n\",feature_importances)"
   ]
  },
  {
   "cell_type": "markdown",
   "metadata": {},
   "source": [
    "## Optimize hyperparmeters"
   ]
  },
  {
   "cell_type": "code",
   "execution_count": 68,
   "metadata": {},
   "outputs": [
    {
     "name": "stdout",
     "output_type": "stream",
     "text": [
      "n_estimators = 100, OOB_score=0.895\n",
      "n_estimators = 200, OOB_score=0.897\n",
      "n_estimators = 300, OOB_score=0.898\n",
      "n_estimators = 500, OOB_score=0.899\n",
      "n_estimators = 1000, OOB_score=0.899\n"
     ]
    }
   ],
   "source": [
    "# Optimize the n_estimators\n",
    "my_target_estimators = [100, 200, 300, 500, 1000]\n",
    "for n_trees in my_target_estimators:\n",
    "    myRF = RandomForestRegressor(n_estimators=n_trees, max_features=None,\n",
    "                                    oob_score=True, random_state=0)\n",
    "    myRF.fit(X_train, y_train)\n",
    "    print('n_estimators = %d, OOB_score=%.3f' % (n_trees, myRF.oob_score_))"
   ]
  },
  {
   "cell_type": "code",
   "execution_count": 69,
   "metadata": {},
   "outputs": [
    {
     "name": "stdout",
     "output_type": "stream",
     "text": [
      "max_features = None, OOB_score=0.899\n",
      "max_features = sqrt, OOB_score=0.862\n",
      "max_features = log2, OOB_score=0.862\n"
     ]
    }
   ],
   "source": [
    "# Optimize max_features\n",
    "my_max_features = [None, \"sqrt\", \"log2\"]\n",
    "for max_features in my_max_features:\n",
    "    myRF = RandomForestRegressor(n_estimators=500, max_features=max_features,\n",
    "                                    oob_score=True, random_state=0)\n",
    "    myRF.fit(X_train, y_train)\n",
    "    print('max_features = %s, OOB_score=%.3f' % (max_features, myRF.oob_score_))"
   ]
  },
  {
   "cell_type": "code",
   "execution_count": 70,
   "metadata": {},
   "outputs": [
    {
     "name": "stdout",
     "output_type": "stream",
     "text": [
      "Runetime to train RF model and predict test labels:  5.240524768829346\n"
     ]
    }
   ],
   "source": [
    "# Start function timer\n",
    "start = time.time()\n",
    "\n",
    "# create RF learner (model)\n",
    "myRF = RandomForestRegressor(n_estimators=500, max_features=None, random_state=0)\n",
    "'''\n",
    "    n_estimators: # of trees\n",
    "    max_features: maximum features we will consider to split at each node\n",
    "                  If “auto”, then max_features=sqrt(n_features).\n",
    "                  If “sqrt”, then max_features=sqrt(n_features) (same as “auto”).\n",
    "                  If “log2”, then max_features=log2(n_features).\n",
    "                  If None, then max_features=n_features.\n",
    "                  \n",
    "'''\n",
    "# fit the model to the training data\n",
    "myRF.fit(X_train, y_train)\n",
    "y_pred = myRF.predict(X_test)\n",
    "# print(\"Accuracy: \", myRF.score(X_test,y_test))\n",
    "\n",
    "# End function timer\n",
    "end = time.time()\n",
    "print(\"Runetime to train RF model and predict test labels: \",end-start)\n",
    "# Used to return labels to real number\n",
    "# Removes normalizaion, not recommended for anything other than RMSE\n",
    "y_num = np.asarray([int(math.exp(x)) for x in y_pred])\n",
    "y_test_num = np.asarray([int(math.exp(x)) for x in y_test])"
   ]
  },
  {
   "cell_type": "markdown",
   "metadata": {},
   "source": [
    "## Accuracy"
   ]
  },
  {
   "cell_type": "code",
   "execution_count": 71,
   "metadata": {},
   "outputs": [],
   "source": [
    "def RMSE(y_pred, y_test):   \n",
    "    # # # # # # # # # # # # # # # # # # # # # # # # # # # # # # \n",
    "    # Compare the difference between predicted and real values\n",
    "    # using root mean square error.\n",
    "    #\n",
    "    # Parameters:\n",
    "    # y_pred - predicted labels using p(x) (vector/list)\n",
    "    # y_test - actual labels from data (vector/list)\n",
    "    #\n",
    "    # Return:\n",
    "    # rmse - Singular value determined using root mean square error method\n",
    "    # # # # # # # # # # # # # # # # # # # # # # # # # # # # # #\n",
    "    \n",
    "    x = float(len(y_test)) # len () gives an integer value   \n",
    "    rmse = np.sqrt(sum((y_test-y_pred)**2)/x)\n",
    "    return rmse"
   ]
  },
  {
   "cell_type": "code",
   "execution_count": 72,
   "metadata": {},
   "outputs": [],
   "source": [
    "def Pearson(y_pred, y_test):\n",
    "    # # # # # # # # # # # # # # # # # # # # # # # # # # # # # # \n",
    "    # Partial Source: Python, C., Dali, S., Hammerbacher, J., & Thoma, \n",
    "    # M. (2010). Calculating Pearson correlation and significance \n",
    "    # in Python. Stack Overflow. Retrieved 29 April 2019, from \n",
    "    # https://stackoverflow.com/questions/3949226/calculating-pearson-correlation-and-significance-in-python\n",
    "    #\n",
    "    # Compare the difference between predicted and real values\n",
    "    # using pearson method.\n",
    "    #\n",
    "    # Parameters:\n",
    "    # y_pred - predicted labels using p(x) (vector/list)\n",
    "    # y_test - actual labels from data (vector/list)\n",
    "    #\n",
    "    # Return:\n",
    "    # Pearson coefficient\n",
    "    # # # # # # # # # # # # # # # # # # # # # # # # # # # # # #\n",
    "    \n",
    "    # Proper variable structure tests\n",
    "    assert len(y_pred) == len(y_test)\n",
    "    n = len(y_pred)\n",
    "    assert n > 0\n",
    "    \n",
    "    # Finding averages of vectors using numpy.average()\n",
    "    avg_pred = np.average(y_pred)\n",
    "    avg_test = np.average(y_test)\n",
    "    \n",
    "    # Variable initialization\n",
    "    diffprod = 0\n",
    "    xdiff2 = 0\n",
    "    ydiff2 = 0\n",
    "    \n",
    "    # Determining correlation between each point\n",
    "    for idx in range(n):\n",
    "        xdiff = y_pred[idx] - avg_pred\n",
    "        ydiff = y_test[idx] - avg_test\n",
    "        diffprod += xdiff * ydiff\n",
    "        xdiff2 += xdiff * xdiff\n",
    "        ydiff2 += ydiff * ydiff\n",
    "\n",
    "    return diffprod / math.sqrt(xdiff2 * ydiff2)"
   ]
  },
  {
   "cell_type": "code",
   "execution_count": 73,
   "metadata": {},
   "outputs": [],
   "source": [
    "def Spearman(y_pred,y_test):\n",
    "    # # # # # # # # # # # # # # # # # # # # # # # # # # # # # # \n",
    "    # Compare the difference between predicted and real values\n",
    "    # using spearman correlation.\n",
    "    #\n",
    "    # Parameters:\n",
    "    # y_pred - predicted labels using p(x) (vector/list)\n",
    "    # y_test - actual labels from data (vector/list)\n",
    "    #\n",
    "    # Return:\n",
    "    # corr - spearman correlation\n",
    "    # # # # # # # # # # # # # # # # # # # # # # # # # # # # # #\n",
    "    \n",
    "    # Proper variable structure tests\n",
    "    assert len(y_pred) == len(y_test)\n",
    "    n = len(y_pred)\n",
    "    assert n > 0\n",
    "    \n",
    "    # Get ranks of labels\n",
    "    order_pred = y_pred.argsort()\n",
    "    ranks_pred = order_pred.argsort()\n",
    "    order_test = y_test.argsort()\n",
    "    ranks_test = order_test.argsort()\n",
    "    \n",
    "    # Finding averages of vectors using numpy.average()\n",
    "    avg_pred = np.average(ranks_pred)\n",
    "    avg_test = np.average(ranks_test)\n",
    "    \n",
    "    # Variable initialization\n",
    "    nom = 0 # Nominator of spearman formulation\n",
    "    left_sum = 0 # Sum of rank of predicted ranks, minus mean rank\n",
    "    right_sum = 0 # Sum of rank of actual ranks, minus mean rank\n",
    "    \n",
    "    for i in range(n):\n",
    "        left = ranks_pred[i] - avg_pred\n",
    "        right =  ranks_test[i] - avg_test\n",
    "        nom += left*right\n",
    "        left_sum += left*left\n",
    "        right_sum += right*right\n",
    "    \n",
    "    # Final calculation for R_s spearman value\n",
    "    corr = nom/(math.sqrt(left_sum)*math.sqrt(right_sum))\n",
    "    \n",
    "    return corr"
   ]
  },
  {
   "cell_type": "code",
   "execution_count": 74,
   "metadata": {},
   "outputs": [],
   "source": [
    "def KendallTau(x,y):\n",
    "    # # # # # # # # # # # # # # # # # # # # # # # # # # # # # # \n",
    "    # Compare the difference between predicted and real values\n",
    "    # using spearman correlation.\n",
    "    #\n",
    "    # Parameters:\n",
    "    # x - predicted labels using p(x) (vector/list)\n",
    "    # y - actual labels from data (vector/list)\n",
    "    #\n",
    "    # Return:\n",
    "    # t - Kendall Tau statistic\n",
    "    # # # # # # # # # # # # # # # # # # # # # # # # # # # # # #\n",
    "    \n",
    "    # Proper parameter structure tests\n",
    "    assert len(x) == len(y)\n",
    "    n = len(x)\n",
    "    assert n > 0\n",
    "    \n",
    "    # Variable initialization\n",
    "    p = 0 # Count of concordant values\n",
    "    q = 0 # Count of discordant values\n",
    "    x_ties = 0 # Count of ties in predicted values\n",
    "    y_ties = 0 # Count of ties in actuaL values\n",
    "    \n",
    "    # Determining number of concordant, discordant, or tied values\n",
    "    for i in range(n-1):\n",
    "        \n",
    "        # Concordant values\n",
    "        if x[i] > x[i+1] and y[i] > y[i+1]:\n",
    "            p += 1\n",
    "        elif x[i] < x[i+1] and y[i] < y[i+1]:\n",
    "            p += 1\n",
    "        \n",
    "        # Discordant values\n",
    "        elif x[i] > x[i+1] and y[i] < y[i+1]:\n",
    "            q+=1\n",
    "        elif x[i] < x[i+1] and y[i] > y[i+1]:\n",
    "            q+=1\n",
    "            \n",
    "        # Ties\n",
    "        elif x[i] == x[i+1]:\n",
    "            x_ties +=1\n",
    "        elif y[i] == y[i+1]:\n",
    "            y_ties += 1\n",
    "        \n",
    "        # Safty pass\n",
    "        else:\n",
    "            pass\n",
    "    \n",
    "    # Calculation of Kendall Tau statistic\n",
    "    t = (p-q)/(math.sqrt(p+q+x_ties)*math.sqrt(p+q+y_ties))\n",
    "    return t"
   ]
  },
  {
   "cell_type": "markdown",
   "metadata": {},
   "source": [
    "### Formatting and displaying different correlation values"
   ]
  },
  {
   "cell_type": "code",
   "execution_count": 77,
   "metadata": {},
   "outputs": [
    {
     "name": "stdout",
     "output_type": "stream",
     "text": [
      "The Root Mean Square Error of the data is 76.5793\n",
      "The Pearson correlation of the data is 0.9534\n",
      "The Spearman correlation of the data is 0.9413\n",
      "The Kendall Tau statistic of the data is 0.7888\n"
     ]
    }
   ],
   "source": [
    "rmse = RMSE(y_num, y_test_num)\n",
    "spearman_corr = Spearman(y_pred, y_test)\n",
    "ken = KendallTau(y_pred, y_test)\n",
    "pearson_corr = Pearson(y_pred, y_test)\n",
    "\n",
    "print('The Root Mean Square Error of the data is %.4f' % rmse)\n",
    "print('The Pearson correlation of the data is %.4f' % pearson_corr)\n",
    "print('The Spearman correlation of the data is %.4f' % spearman_corr)\n",
    "print('The Kendall Tau statistic of the data is %.4f' % ken)"
   ]
  },
  {
   "cell_type": "markdown",
   "metadata": {},
   "source": [
    "## Model visualization"
   ]
  },
  {
   "cell_type": "code",
   "execution_count": 76,
   "metadata": {},
   "outputs": [
    {
     "data": {
      "text/plain": [
       "<function matplotlib.pyplot.show(*args, **kw)>"
      ]
     },
     "execution_count": 76,
     "metadata": {},
     "output_type": "execute_result"
    },
    {
     "data": {
      "image/png": "[encoded data removed]",
      "text/plain": [
       "<Figure size 432x288 with 1 Axes>"
      ]
     },
     "metadata": {
      "needs_background": "light"
     },
     "output_type": "display_data"
    }
   ],
   "source": [
    "x = np.arange(1000)\n",
    "y = x\n",
    "plt.plot(x, y, '-')\n",
    "plt.scatter(y_num,y_test_num)\n",
    "plt.plot(x,)\n",
    "plt.ylabel(\"Actual Values\")\n",
    "plt.xlabel(\"Predicted Values\")\n",
    "plt.title('Random Forest Regressor')\n",
    "ax.title.set_text('Residual Plot | Root Squared Mean Log Error: ' + str(np.sqrt(mean_squared_log_error(y_test, y_pred))))\n",
    "plt.show"
   ]
  },
  {
   "cell_type": "code",
   "execution_count": null,
   "metadata": {},
   "outputs": [],
   "source": []
  }
 ],
 "metadata": {
  "kernelspec": {
   "display_name": "Python 3",
   "language": "python",
   "name": "python3"
  },
  "language_info": {
   "codemirror_mode": {
    "name": "ipython",
    "version": 3
   },
   "file_extension": ".py",
   "mimetype": "text/x-python",
   "name": "python",
   "nbconvert_exporter": "python",
   "pygments_lexer": "ipython3",
   "version": "3.7.0"
  }
 },
 "nbformat": 4,
 "nbformat_minor": 2
}
